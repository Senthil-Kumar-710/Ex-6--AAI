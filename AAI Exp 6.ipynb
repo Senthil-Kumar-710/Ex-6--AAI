{
 "cells": [
  {
   "cell_type": "code",
   "execution_count": 1,
   "id": "7cfc9c82",
   "metadata": {},
   "outputs": [
    {
     "name": "stdout",
     "output_type": "stream",
     "text": [
      "Requirement already satisfied: nltk in d:\\anaconda\\envs\\aimath\\lib\\site-packages (3.8.1)\n",
      "Requirement already satisfied: tqdm in d:\\anaconda\\envs\\aimath\\lib\\site-packages (from nltk) (4.66.2)\n",
      "Requirement already satisfied: joblib in d:\\anaconda\\envs\\aimath\\lib\\site-packages (from nltk) (1.3.2)\n",
      "Requirement already satisfied: regex>=2021.8.3 in d:\\anaconda\\envs\\aimath\\lib\\site-packages (from nltk) (2024.4.16)\n",
      "Requirement already satisfied: click in d:\\anaconda\\envs\\aimath\\lib\\site-packages (from nltk) (8.1.7)\n",
      "Requirement already satisfied: colorama in d:\\anaconda\\envs\\aimath\\lib\\site-packages (from click->nltk) (0.4.4)\n",
      "Note: you may need to restart the kernel to use updated packages.\n"
     ]
    }
   ],
   "source": [
    "pip install nltk"
   ]
  },
  {
   "cell_type": "code",
   "execution_count": 2,
   "id": "4e333b21",
   "metadata": {},
   "outputs": [
    {
     "name": "stderr",
     "output_type": "stream",
     "text": [
      "D:\\Anaconda\\envs\\aimath\\lib\\site-packages\\scipy\\__init__.py:146: UserWarning: A NumPy version >=1.16.5 and <1.23.0 is required for this version of SciPy (detected version 1.26.2\n",
      "  warnings.warn(f\"A NumPy version >={np_minversion} and <{np_maxversion}\"\n",
      "[nltk_data] Downloading package punkt to\n",
      "[nltk_data]     C:\\Users\\chief\\AppData\\Roaming\\nltk_data...\n",
      "[nltk_data]   Package punkt is already up-to-date!\n",
      "[nltk_data] Downloading package wordnet to\n",
      "[nltk_data]     C:\\Users\\chief\\AppData\\Roaming\\nltk_data...\n",
      "[nltk_data]   Package wordnet is already up-to-date!\n",
      "[nltk_data] Downloading package averaged_perceptron_tagger to\n",
      "[nltk_data]     C:\\Users\\chief\\AppData\\Roaming\\nltk_data...\n",
      "[nltk_data]   Package averaged_perceptron_tagger is already up-to-\n",
      "[nltk_data]       date!\n"
     ]
    },
    {
     "data": {
      "text/plain": [
       "True"
      ]
     },
     "execution_count": 2,
     "metadata": {},
     "output_type": "execute_result"
    }
   ],
   "source": [
    "import nltk\n",
    "nltk.download('punkt')\n",
    "nltk.download('wordnet')\n",
    "from nltk.tokenize import word_tokenize\n",
    "nltk.download('averaged_perceptron_tagger')"
   ]
  },
  {
   "cell_type": "code",
   "execution_count": 3,
   "id": "090d2b33",
   "metadata": {},
   "outputs": [
    {
     "name": "stdout",
     "output_type": "stream",
     "text": [
      "Thorfinn is a human being\n"
     ]
    }
   ],
   "source": [
    "sentence=input()"
   ]
  },
  {
   "cell_type": "code",
   "execution_count": 9,
   "id": "0f0d67b8",
   "metadata": {},
   "outputs": [
    {
     "name": "stdout",
     "output_type": "stream",
     "text": [
      "Thorfinn NNP\n",
      "is VBZ\n",
      "a DT\n",
      "human JJ\n",
      "being VBG\n"
     ]
    }
   ],
   "source": [
    "# Tokenize the sentence into words\n",
    "words = word_tokenize(sentence)\n",
    "# Identify the parts of speech for each word\n",
    "pos_tags= nltk.pos_tag(words)\n",
    "# Print the parts of speech\n",
    "for word, tag in pos_tags:\n",
    "\tprint(word, tag)\n",
    "from nltk.corpus import wordnet"
   ]
  },
  {
   "cell_type": "code",
   "execution_count": 10,
   "id": "6c8f070a",
   "metadata": {},
   "outputs": [],
   "source": [
    "# Identify synonyms and antonyms for each word\n",
    "synonyms =[]\n",
    "antonyms =[]"
   ]
  },
  {
   "cell_type": "code",
   "execution_count": 11,
   "id": "691ae252",
   "metadata": {},
   "outputs": [],
   "source": [
    "for word in words:\n",
    "\tfor syn in wordnet.synsets(word) :\n",
    "\t\tfor lemma in syn.lemmas():\n",
    "\t\t\tsynonyms.append(lemma.name())\n",
    "\t\t\tif lemma.antonyms():\n",
    "\t\t\t\tantonyms.append(lemma.antonyms()[0].name())"
   ]
  },
  {
   "cell_type": "code",
   "execution_count": 13,
   "id": "4daf8911",
   "metadata": {},
   "outputs": [
    {
     "name": "stdout",
     "output_type": "stream",
     "text": [
      "Synonyms:  {'exist', 'constitute', 'vitamin_A', 'human_being', 'represent', 'A', 'deoxyadenosine_monophosphate', 'personify', 'adenine', 'group_A', 'axerophthol', 'embody', 'a', 'be', 'live', 'make_up', 'existence', 'equal', 'angstrom_unit', 'type_A', 'man', 'amp', 'organism', 'antiophthalmic_factor', 'being', 'homo', 'follow', 'ampere', 'human', 'beingness', 'cost', 'angstrom', 'comprise'}\n",
      "Antonyms:  {'nonbeing', 'differ', 'nonexistence', 'nonhuman'}\n"
     ]
    }
   ],
   "source": [
    "# Print the synonyms and antonyms\n",
    "print(\"Synonyms: \", set(synonyms))\n",
    "print(\"Antonyms: \", set(antonyms))"
   ]
  }
 ],
 "metadata": {
  "kernelspec": {
   "display_name": "Python 3 (ipykernel)",
   "language": "python",
   "name": "python3"
  },
  "language_info": {
   "codemirror_mode": {
    "name": "ipython",
    "version": 3
   },
   "file_extension": ".py",
   "mimetype": "text/x-python",
   "name": "python",
   "nbconvert_exporter": "python",
   "pygments_lexer": "ipython3",
   "version": "3.9.7"
  }
 },
 "nbformat": 4,
 "nbformat_minor": 5
}
